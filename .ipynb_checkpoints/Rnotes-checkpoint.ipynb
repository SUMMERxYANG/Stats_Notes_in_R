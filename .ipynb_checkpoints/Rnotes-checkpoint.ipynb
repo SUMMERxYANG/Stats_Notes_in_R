{
 "cells": [
  {
   "cell_type": "markdown",
   "id": "italian-rogers",
   "metadata": {},
   "source": [
    "# Directory\n",
    "1. [Central Limit Theorem](#1)\n",
    "2. [Empirical CDFs](#2)\n",
    "3. [Maximum Likelihood Estimators](#3)"
   ]
  },
  {
   "cell_type": "markdown",
   "id": "protective-japanese",
   "metadata": {},
   "source": [
    " ## Central Limit Theorem <a name=\"1\"></a>"
   ]
  },
  {
   "cell_type": "code",
   "execution_count": 1,
   "id": "artificial-highlight",
   "metadata": {},
   "outputs": [
    {
     "data": {
      "image/png": "[encoded data removed]",
      "text/plain": [
       "Plot with title \"Histogram of Exponentially Distributed Sample (n = 100)\""
      ]
     },
     "metadata": {},
     "output_type": "display_data"
    }
   ],
   "source": [
    "# set plot size\n",
    "options(repr.plot.width = 6, repr.plot.height = 4)\n",
    "# setting seed allows the randomly generated results to be reproduced\n",
    "set.seed(101)\n",
    "# random exponential dist, 100 values, lamda = 1\n",
    "x0 <- rexp(100, 1)\n",
    "# plot hist\n",
    "hist(x0, main = \"Histogram of Exponentially Distributed Sample (n = 100)\")"
   ]
  },
  {
   "cell_type": "code",
   "execution_count": 2,
   "id": "equal-corps",
   "metadata": {},
   "outputs": [
    {
     "data": {
      "text/html": [
       "<table>\n",
       "<tbody>\n",
       "\t<tr><td>NA</td><td>NA</td><td>NA</td><td>NA</td><td>NA</td></tr>\n",
       "\t<tr><td>NA</td><td>NA</td><td>NA</td><td>NA</td><td>NA</td></tr>\n",
       "\t<tr><td>NA</td><td>NA</td><td>NA</td><td>NA</td><td>NA</td></tr>\n",
       "\t<tr><td>NA</td><td>NA</td><td>NA</td><td>NA</td><td>NA</td></tr>\n",
       "\t<tr><td>NA</td><td>NA</td><td>NA</td><td>NA</td><td>NA</td></tr>\n",
       "\t<tr><td>NA</td><td>NA</td><td>NA</td><td>NA</td><td>NA</td></tr>\n",
       "</tbody>\n",
       "</table>\n"
      ],
      "text/latex": [
       "\\begin{tabular}{lllll}\n",
       "\t NA & NA & NA & NA & NA\\\\\n",
       "\t NA & NA & NA & NA & NA\\\\\n",
       "\t NA & NA & NA & NA & NA\\\\\n",
       "\t NA & NA & NA & NA & NA\\\\\n",
       "\t NA & NA & NA & NA & NA\\\\\n",
       "\t NA & NA & NA & NA & NA\\\\\n",
       "\\end{tabular}\n"
      ],
      "text/markdown": [
       "\n",
       "| NA | NA | NA | NA | NA |\n",
       "| NA | NA | NA | NA | NA |\n",
       "| NA | NA | NA | NA | NA |\n",
       "| NA | NA | NA | NA | NA |\n",
       "| NA | NA | NA | NA | NA |\n",
       "| NA | NA | NA | NA | NA |\n",
       "\n"
      ],
      "text/plain": [
       "     [,1] [,2] [,3] [,4] [,5]\n",
       "[1,] NA   NA   NA   NA   NA  \n",
       "[2,] NA   NA   NA   NA   NA  \n",
       "[3,] NA   NA   NA   NA   NA  \n",
       "[4,] NA   NA   NA   NA   NA  \n",
       "[5,] NA   NA   NA   NA   NA  \n",
       "[6,] NA   NA   NA   NA   NA  "
      ]
     },
     "metadata": {},
     "output_type": "display_data"
    }
   ],
   "source": [
    "EX <- 1 # mean\n",
    "VarX <- 1 # var\n",
    "s <- 2000 # number of samples\n",
    "n <- c(5, 10, 50, 100, 1000) # sample size; c stands for combine\n",
    "\n",
    "# create empty matrix\n",
    "z <- matrix(NA, nrow = s, ncol = length(n))\n",
    "head(z)"
   ]
  },
  {
   "cell_type": "code",
   "execution_count": 3,
   "id": "covered-blackjack",
   "metadata": {},
   "outputs": [
    {
     "data": {
      "text/html": [
       "<table>\n",
       "<tbody>\n",
       "\t<tr><td>-0.1669253 </td><td>-1.7076668 </td><td>-0.1297386 </td><td> 0.4141978 </td><td>-0.88765561</td></tr>\n",
       "\t<tr><td>-0.8988581 </td><td>-1.3218413 </td><td> 0.5917310 </td><td> 0.3993584 </td><td> 1.98187222</td></tr>\n",
       "\t<tr><td>-0.7078120 </td><td> 0.4924594 </td><td> 0.6652227 </td><td>-1.0568736 </td><td>-0.60597427</td></tr>\n",
       "\t<tr><td>-0.4623412 </td><td>-0.6169199 </td><td>-0.6588296 </td><td>-2.0317606 </td><td> 0.56276234</td></tr>\n",
       "\t<tr><td> 0.2642828 </td><td> 0.4791667 </td><td>-0.8537200 </td><td> 0.6219426 </td><td>-0.08319398</td></tr>\n",
       "\t<tr><td> 0.6390162 </td><td>-0.3817332 </td><td>-0.2752130 </td><td> 0.8812396 </td><td> 1.20613316</td></tr>\n",
       "</tbody>\n",
       "</table>\n"
      ],
      "text/latex": [
       "\\begin{tabular}{lllll}\n",
       "\t -0.1669253  & -1.7076668  & -0.1297386  &  0.4141978  & -0.88765561\\\\\n",
       "\t -0.8988581  & -1.3218413  &  0.5917310  &  0.3993584  &  1.98187222\\\\\n",
       "\t -0.7078120  &  0.4924594  &  0.6652227  & -1.0568736  & -0.60597427\\\\\n",
       "\t -0.4623412  & -0.6169199  & -0.6588296  & -2.0317606  &  0.56276234\\\\\n",
       "\t  0.2642828  &  0.4791667  & -0.8537200  &  0.6219426  & -0.08319398\\\\\n",
       "\t  0.6390162  & -0.3817332  & -0.2752130  &  0.8812396  &  1.20613316\\\\\n",
       "\\end{tabular}\n"
      ],
      "text/markdown": [
       "\n",
       "| -0.1669253  | -1.7076668  | -0.1297386  |  0.4141978  | -0.88765561 |\n",
       "| -0.8988581  | -1.3218413  |  0.5917310  |  0.3993584  |  1.98187222 |\n",
       "| -0.7078120  |  0.4924594  |  0.6652227  | -1.0568736  | -0.60597427 |\n",
       "| -0.4623412  | -0.6169199  | -0.6588296  | -2.0317606  |  0.56276234 |\n",
       "|  0.2642828  |  0.4791667  | -0.8537200  |  0.6219426  | -0.08319398 |\n",
       "|  0.6390162  | -0.3817332  | -0.2752130  |  0.8812396  |  1.20613316 |\n",
       "\n"
      ],
      "text/plain": [
       "     [,1]       [,2]       [,3]       [,4]       [,5]       \n",
       "[1,] -0.1669253 -1.7076668 -0.1297386  0.4141978 -0.88765561\n",
       "[2,] -0.8988581 -1.3218413  0.5917310  0.3993584  1.98187222\n",
       "[3,] -0.7078120  0.4924594  0.6652227 -1.0568736 -0.60597427\n",
       "[4,] -0.4623412 -0.6169199 -0.6588296 -2.0317606  0.56276234\n",
       "[5,]  0.2642828  0.4791667 -0.8537200  0.6219426 -0.08319398\n",
       "[6,]  0.6390162 -0.3817332 -0.2752130  0.8812396  1.20613316"
      ]
     },
     "metadata": {},
     "output_type": "display_data"
    }
   ],
   "source": [
    "# fill in matrix\n",
    "for (i in 1:s)\n",
    "{\n",
    "    for (j in 1:length(n))\n",
    "    {   # loop over sample size\n",
    "        samp <- rexp(n = n[j], 1) # generate sample\n",
    "        M <-mean(samp) # sample mean\n",
    "        z[i, j] <- (M - EX)/sqrt(VarX/n[j]) # calcualte z score\n",
    "    }\n",
    "}\n",
    "head(z)"
   ]
  },
  {
   "cell_type": "code",
   "execution_count": 4,
   "id": "functioning-request",
   "metadata": {
    "scrolled": false
   },
   "outputs": [
    {
     "data": {
      "image/png": "[encoded data removed]",
      "text/plain": [
       "Plot with title \"n = 1000\""
      ]
     },
     "metadata": {},
     "output_type": "display_data"
    }
   ],
   "source": [
    "# format the layout so that 2x3 = 6 subplots fit in 1 page\n",
    "par(mfrow = c(2, 3)) # par stands for partition\n",
    "hist(z[, 1], main = paste(\"n =\", n[1])) # 1st col of matrix z\n",
    "hist(z[, 2], main = paste(\"n =\", n[2])) # 2nd col...\n",
    "hist(z[, 3], main = paste(\"n =\", n[3]))\n",
    "hist(z[, 4], main = paste(\"n =\", n[4]))\n",
    "hist(z[, 5], main = paste(\"n =\", n[5]))"
   ]
  },
  {
   "cell_type": "markdown",
   "id": "adjustable-yugoslavia",
   "metadata": {},
   "source": [
    "The above plot illustrates CLT: <br> \n",
    "- The distribution of sample means approaches a <em>normal</em> distribution as sample size increases, <br>regardless of parent distribution of population (exponential in this case).\n",
    "- Assumption: the samples are random (i.e. independently and identically distributed)."
   ]
  },
  {
   "cell_type": "markdown",
   "id": "recognized-curtis",
   "metadata": {},
   "source": [
    " ## Empirical CDFs <a name=\"2\"></a>"
   ]
  },
  {
   "cell_type": "code",
   "execution_count": 12,
   "id": "after-clear",
   "metadata": {
    "scrolled": false
   },
   "outputs": [
    {
     "data": {
      "image/png": "[encoded data removed]",
      "text/plain": [
       "Plot with title \"ecdf(x)\""
      ]
     },
     "metadata": {},
     "output_type": "display_data"
    }
   ],
   "source": [
    "x <- c(5.5, 6.0, 5.3, 5.5, 6.2)\n",
    "Fx <- ecdf(x) # empirical cdf (used for samples)\n",
    "plot(Fx)\n",
    "grid(col = \"gray\") "
   ]
  },
  {
   "cell_type": "markdown",
   "id": "particular-willow",
   "metadata": {},
   "source": [
    " ## Maximum Likelihood Estimators <a name=\"3\"></a>"
   ]
  },
  {
   "cell_type": "markdown",
   "id": "iraqi-madagascar",
   "metadata": {},
   "source": [
    "Suppose the outcome of tossing a coin (represent as $\\theta$) 5 times is given by s = (H, T, H, H, T) <br>\n",
    "The MLE of P(heads) for this coin can be found in the following graphs:\n"
   ]
  },
  {
   "cell_type": "code",
   "execution_count": 9,
   "id": "embedded-carrier",
   "metadata": {},
   "outputs": [
    {
     "data": {
      "image/png": "[encoded data removed]",
      "text/plain": [
       "plot without title"
      ]
     },
     "metadata": {},
     "output_type": "display_data"
    }
   ],
   "source": [
    "par(mfrow = c(2, 1))\n",
    "# model the likelihood function with Bernoulli(theta)\n",
    "Ltheta = function(theta) {theta^3 *(1-theta)^2}\n",
    "curve(Ltheta, from = 0, to = 1, \n",
    "      xlab = (expression(\"\"*theta*\"\")), ylab = (expression(\"L(\"*theta*\")\")))\n",
    "grid(col = 'grey')\n",
    "# shortcut: since ln(x) is a 1-1 increasing function...\n",
    "# value that maximizes L <-> value that maximizes ln(L)\n",
    "# thus just need to find derivative of ln L(theta | s):\n",
    "ltheta = function(theta) {3*log(theta) + 2*log(1-theta)}\n",
    "curve(ltheta, from = 0, to = 1, \n",
    "      xlab = (expression(\" \"*theta*\" \")), ylab = (expression(\"ln L(\"*theta*\")\")))\n",
    "grid(col = 'grey')"
   ]
  },
  {
   "cell_type": "markdown",
   "id": "juvenile-packet",
   "metadata": {},
   "source": [
    "The MLE is given by $\\boldsymbol{\\hat{\\theta}}$ = 0.6 <br>\n",
    "If given the number of heads in place of $s$, the result wouldn't change. <br>\n",
    "The MLE would simply be scaled by a constant C = ${n\\choose k}$ <br>\n",
    "Thus, $\\hat{\\theta}$ is a <em>sufficient statistic.</em>"
   ]
  }
 ],
 "metadata": {
  "kernelspec": {
   "display_name": "R",
   "language": "R",
   "name": "ir"
  },
  "language_info": {
   "codemirror_mode": "r",
   "file_extension": ".r",
   "mimetype": "text/x-r-source",
   "name": "R",
   "pygments_lexer": "r",
   "version": "3.6.1"
  }
 },
 "nbformat": 4,
 "nbformat_minor": 5
}
